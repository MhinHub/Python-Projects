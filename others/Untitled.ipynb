{
 "cells": [
  {
   "cell_type": "code",
   "execution_count": 2,
   "id": "4cf9228d",
   "metadata": {},
   "outputs": [],
   "source": [
    "def lineplot(x_data, y_data, x_label=\"\", y_label=\"\", title=\"\"):\n",
    "    # Create the plot object\n",
    "    _, ax = plt.subplots()\n",
    "\n",
    "    # Plot the best fit line, set the linewidth (lw), color and\n",
    "    # transparency (alpha) of the line\n",
    "    ax.plot(x_data, y_data, lw = 2, color = '#539caf', alpha = 1)\n",
    "\n",
    "    # Label the axes and provide a title\n",
    "    ax.set_title(title)\n",
    "    ax.set_xlabel(x_label)\n",
    "    ax.set_ylabel(y_label)"
   ]
  },
  {
   "cell_type": "code",
   "execution_count": null,
   "id": "d1cb4a34",
   "metadata": {},
   "outputs": [],
   "source": []
  }
 ],
 "metadata": {
  "kernelspec": {
   "display_name": "Python 3",
   "language": "python",
   "name": "python3"
  },
  "language_info": {
   "codemirror_mode": {
    "name": "ipython",
    "version": 3
   },
   "file_extension": ".py",
   "mimetype": "text/x-python",
   "name": "python",
   "nbconvert_exporter": "python",
   "pygments_lexer": "ipython3",
   "version": "3.9.1"
  }
 },
 "nbformat": 4,
 "nbformat_minor": 5
}
