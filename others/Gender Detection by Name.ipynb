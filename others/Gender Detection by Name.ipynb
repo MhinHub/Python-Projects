{
  "nbformat": 4,
  "nbformat_minor": 0,
  "metadata": {
    "colab": {
      "name": "Muhaemin Iskandar_TugasML_Intelligo.id.ipynb",
      "provenance": [],
      "collapsed_sections": [
        "KSU2HM1Q42YO",
        "Ik7fcP5j48GJ",
        "XKOkSDsq54En",
        "r2HjqJrW7zXB"
      ]
    },
    "kernelspec": {
      "name": "python3",
      "display_name": "Python 3"
    },
    "language_info": {
      "name": "python"
    }
  },
  "cells": [
    {
      "cell_type": "markdown",
      "metadata": {
        "id": "PrE11Fnz9n9P"
      },
      "source": [
        "## import data training"
      ]
    },
    {
      "cell_type": "code",
      "metadata": {
        "colab": {
          "base_uri": "https://localhost:8080/"
        },
        "id": "pWFq0JZHMGXo",
        "outputId": "648e01ba-c308-47e4-a957-7c392a6566a2"
      },
      "source": [
        "from google.colab import drive\n",
        "drive.mount('/content/drive')"
      ],
      "execution_count": null,
      "outputs": [
        {
          "output_type": "stream",
          "name": "stdout",
          "text": [
            "Drive already mounted at /content/drive; to attempt to forcibly remount, call drive.mount(\"/content/drive\", force_remount=True).\n"
          ]
        }
      ]
    },
    {
      "cell_type": "code",
      "metadata": {
        "id": "nEUCF0Jn9rvv"
      },
      "source": [
        "import pandas as pd"
      ],
      "execution_count": null,
      "outputs": []
    },
    {
      "cell_type": "code",
      "metadata": {
        "id": "kI9dp0uE-DFy"
      },
      "source": [
        "df = pd.read_csv('/content/drive/MyDrive/Intelligo.id/Data/data_train.csv')"
      ],
      "execution_count": null,
      "outputs": []
    },
    {
      "cell_type": "code",
      "metadata": {
        "colab": {
          "base_uri": "https://localhost:8080/",
          "height": 419
        },
        "id": "lnkbx37j-MKn",
        "outputId": "49927142-04b5-4c06-dc2d-5d869e3f974c"
      },
      "source": [
        "df"
      ],
      "execution_count": null,
      "outputs": [
        {
          "output_type": "execute_result",
          "data": {
            "text/html": [
              "<div>\n",
              "<style scoped>\n",
              "    .dataframe tbody tr th:only-of-type {\n",
              "        vertical-align: middle;\n",
              "    }\n",
              "\n",
              "    .dataframe tbody tr th {\n",
              "        vertical-align: top;\n",
              "    }\n",
              "\n",
              "    .dataframe thead th {\n",
              "        text-align: right;\n",
              "    }\n",
              "</style>\n",
              "<table border=\"1\" class=\"dataframe\">\n",
              "  <thead>\n",
              "    <tr style=\"text-align: right;\">\n",
              "      <th></th>\n",
              "      <th>index</th>\n",
              "      <th>nama</th>\n",
              "      <th>jenis_kelamin</th>\n",
              "    </tr>\n",
              "  </thead>\n",
              "  <tbody>\n",
              "    <tr>\n",
              "      <th>0</th>\n",
              "      <td>0</td>\n",
              "      <td>ERWIN TJAHJONO</td>\n",
              "      <td>Laki-Laki</td>\n",
              "    </tr>\n",
              "    <tr>\n",
              "      <th>1</th>\n",
              "      <td>1</td>\n",
              "      <td>DAVIANDRIE ANDIKA BAHROENY</td>\n",
              "      <td>Laki-Laki</td>\n",
              "    </tr>\n",
              "    <tr>\n",
              "      <th>2</th>\n",
              "      <td>2</td>\n",
              "      <td>ELAN KURNIAWAN</td>\n",
              "      <td>Laki-Laki</td>\n",
              "    </tr>\n",
              "    <tr>\n",
              "      <th>3</th>\n",
              "      <td>3</td>\n",
              "      <td>AYU DWI CAHYANING MUKTI</td>\n",
              "      <td>Perempuan</td>\n",
              "    </tr>\n",
              "    <tr>\n",
              "      <th>4</th>\n",
              "      <td>4</td>\n",
              "      <td>WAHYOEDIN</td>\n",
              "      <td>Laki-Laki</td>\n",
              "    </tr>\n",
              "    <tr>\n",
              "      <th>...</th>\n",
              "      <td>...</td>\n",
              "      <td>...</td>\n",
              "      <td>...</td>\n",
              "    </tr>\n",
              "    <tr>\n",
              "      <th>995</th>\n",
              "      <td>995</td>\n",
              "      <td>NENNI SABILLAH</td>\n",
              "      <td>Perempuan</td>\n",
              "    </tr>\n",
              "    <tr>\n",
              "      <th>996</th>\n",
              "      <td>996</td>\n",
              "      <td>GRACE LIE</td>\n",
              "      <td>Perempuan</td>\n",
              "    </tr>\n",
              "    <tr>\n",
              "      <th>997</th>\n",
              "      <td>997</td>\n",
              "      <td>HENNY H SAKKA</td>\n",
              "      <td>Perempuan</td>\n",
              "    </tr>\n",
              "    <tr>\n",
              "      <th>998</th>\n",
              "      <td>998</td>\n",
              "      <td>AJENG FARAH ARIBAH</td>\n",
              "      <td>Perempuan</td>\n",
              "    </tr>\n",
              "    <tr>\n",
              "      <th>999</th>\n",
              "      <td>999</td>\n",
              "      <td>P U R N I</td>\n",
              "      <td>Perempuan</td>\n",
              "    </tr>\n",
              "  </tbody>\n",
              "</table>\n",
              "<p>1000 rows × 3 columns</p>\n",
              "</div>"
            ],
            "text/plain": [
              "     index                        nama jenis_kelamin\n",
              "0        0              ERWIN TJAHJONO     Laki-Laki\n",
              "1        1  DAVIANDRIE ANDIKA BAHROENY     Laki-Laki\n",
              "2        2              ELAN KURNIAWAN     Laki-Laki\n",
              "3        3     AYU DWI CAHYANING MUKTI     Perempuan\n",
              "4        4                   WAHYOEDIN     Laki-Laki\n",
              "..     ...                         ...           ...\n",
              "995    995              NENNI SABILLAH     Perempuan\n",
              "996    996                   GRACE LIE     Perempuan\n",
              "997    997               HENNY H SAKKA     Perempuan\n",
              "998    998          AJENG FARAH ARIBAH     Perempuan\n",
              "999    999                   P U R N I     Perempuan\n",
              "\n",
              "[1000 rows x 3 columns]"
            ]
          },
          "metadata": {},
          "execution_count": 26
        }
      ]
    },
    {
      "cell_type": "markdown",
      "metadata": {
        "id": "UMRCIIkr-hV3"
      },
      "source": [
        "## Cleaning Data"
      ]
    },
    {
      "cell_type": "code",
      "metadata": {
        "colab": {
          "base_uri": "https://localhost:8080/"
        },
        "id": "748Sqcf0-l4u",
        "outputId": "530bdeac-bc77-45a7-9138-946bbfe2ba5d"
      },
      "source": [
        "# mengecek apakah ada data yang kosong\n",
        "df.isnull().values.any()"
      ],
      "execution_count": null,
      "outputs": [
        {
          "output_type": "execute_result",
          "data": {
            "text/plain": [
              "True"
            ]
          },
          "metadata": {},
          "execution_count": 27
        }
      ]
    },
    {
      "cell_type": "code",
      "metadata": {
        "colab": {
          "base_uri": "https://localhost:8080/"
        },
        "id": "zg3wSol3-y4h",
        "outputId": "6c5ad249-c540-405c-e953-ac7574a2c569"
      },
      "source": [
        "#Mengetahui jumlah data yang kosong\n",
        "len(df[pd.isnull(df).any(axis=1)])"
      ],
      "execution_count": null,
      "outputs": [
        {
          "output_type": "execute_result",
          "data": {
            "text/plain": [
              "13"
            ]
          },
          "metadata": {},
          "execution_count": 28
        }
      ]
    },
    {
      "cell_type": "code",
      "metadata": {
        "id": "oOUNOC5I-_jK"
      },
      "source": [
        "#Menghapus data yang kosong\n",
        "df = df.dropna()"
      ],
      "execution_count": null,
      "outputs": []
    },
    {
      "cell_type": "code",
      "metadata": {
        "colab": {
          "base_uri": "https://localhost:8080/",
          "height": 419
        },
        "id": "EM61H0gq_Glf",
        "outputId": "ef838cac-628e-453f-f385-da571530dc79"
      },
      "source": [
        "df"
      ],
      "execution_count": null,
      "outputs": [
        {
          "output_type": "execute_result",
          "data": {
            "text/html": [
              "<div>\n",
              "<style scoped>\n",
              "    .dataframe tbody tr th:only-of-type {\n",
              "        vertical-align: middle;\n",
              "    }\n",
              "\n",
              "    .dataframe tbody tr th {\n",
              "        vertical-align: top;\n",
              "    }\n",
              "\n",
              "    .dataframe thead th {\n",
              "        text-align: right;\n",
              "    }\n",
              "</style>\n",
              "<table border=\"1\" class=\"dataframe\">\n",
              "  <thead>\n",
              "    <tr style=\"text-align: right;\">\n",
              "      <th></th>\n",
              "      <th>index</th>\n",
              "      <th>nama</th>\n",
              "      <th>jenis_kelamin</th>\n",
              "    </tr>\n",
              "  </thead>\n",
              "  <tbody>\n",
              "    <tr>\n",
              "      <th>0</th>\n",
              "      <td>0</td>\n",
              "      <td>ERWIN TJAHJONO</td>\n",
              "      <td>Laki-Laki</td>\n",
              "    </tr>\n",
              "    <tr>\n",
              "      <th>1</th>\n",
              "      <td>1</td>\n",
              "      <td>DAVIANDRIE ANDIKA BAHROENY</td>\n",
              "      <td>Laki-Laki</td>\n",
              "    </tr>\n",
              "    <tr>\n",
              "      <th>2</th>\n",
              "      <td>2</td>\n",
              "      <td>ELAN KURNIAWAN</td>\n",
              "      <td>Laki-Laki</td>\n",
              "    </tr>\n",
              "    <tr>\n",
              "      <th>3</th>\n",
              "      <td>3</td>\n",
              "      <td>AYU DWI CAHYANING MUKTI</td>\n",
              "      <td>Perempuan</td>\n",
              "    </tr>\n",
              "    <tr>\n",
              "      <th>4</th>\n",
              "      <td>4</td>\n",
              "      <td>WAHYOEDIN</td>\n",
              "      <td>Laki-Laki</td>\n",
              "    </tr>\n",
              "    <tr>\n",
              "      <th>...</th>\n",
              "      <td>...</td>\n",
              "      <td>...</td>\n",
              "      <td>...</td>\n",
              "    </tr>\n",
              "    <tr>\n",
              "      <th>995</th>\n",
              "      <td>995</td>\n",
              "      <td>NENNI SABILLAH</td>\n",
              "      <td>Perempuan</td>\n",
              "    </tr>\n",
              "    <tr>\n",
              "      <th>996</th>\n",
              "      <td>996</td>\n",
              "      <td>GRACE LIE</td>\n",
              "      <td>Perempuan</td>\n",
              "    </tr>\n",
              "    <tr>\n",
              "      <th>997</th>\n",
              "      <td>997</td>\n",
              "      <td>HENNY H SAKKA</td>\n",
              "      <td>Perempuan</td>\n",
              "    </tr>\n",
              "    <tr>\n",
              "      <th>998</th>\n",
              "      <td>998</td>\n",
              "      <td>AJENG FARAH ARIBAH</td>\n",
              "      <td>Perempuan</td>\n",
              "    </tr>\n",
              "    <tr>\n",
              "      <th>999</th>\n",
              "      <td>999</td>\n",
              "      <td>P U R N I</td>\n",
              "      <td>Perempuan</td>\n",
              "    </tr>\n",
              "  </tbody>\n",
              "</table>\n",
              "<p>987 rows × 3 columns</p>\n",
              "</div>"
            ],
            "text/plain": [
              "     index                        nama jenis_kelamin\n",
              "0        0              ERWIN TJAHJONO     Laki-Laki\n",
              "1        1  DAVIANDRIE ANDIKA BAHROENY     Laki-Laki\n",
              "2        2              ELAN KURNIAWAN     Laki-Laki\n",
              "3        3     AYU DWI CAHYANING MUKTI     Perempuan\n",
              "4        4                   WAHYOEDIN     Laki-Laki\n",
              "..     ...                         ...           ...\n",
              "995    995              NENNI SABILLAH     Perempuan\n",
              "996    996                   GRACE LIE     Perempuan\n",
              "997    997               HENNY H SAKKA     Perempuan\n",
              "998    998          AJENG FARAH ARIBAH     Perempuan\n",
              "999    999                   P U R N I     Perempuan\n",
              "\n",
              "[987 rows x 3 columns]"
            ]
          },
          "metadata": {},
          "execution_count": 30
        }
      ]
    },
    {
      "cell_type": "code",
      "metadata": {
        "colab": {
          "base_uri": "https://localhost:8080/",
          "height": 541
        },
        "id": "2LOKIXwj_N64",
        "outputId": "61b27394-279e-413c-fbd7-be2ff172fb55"
      },
      "source": [
        "df['jenis_kelamin'] = df['jenis_kelamin'].apply(lambda score: 1 if score=='Laki-Laki' else 0)\n",
        "df"
      ],
      "execution_count": null,
      "outputs": [
        {
          "output_type": "stream",
          "name": "stderr",
          "text": [
            "/usr/local/lib/python3.7/dist-packages/ipykernel_launcher.py:1: SettingWithCopyWarning: \n",
            "A value is trying to be set on a copy of a slice from a DataFrame.\n",
            "Try using .loc[row_indexer,col_indexer] = value instead\n",
            "\n",
            "See the caveats in the documentation: https://pandas.pydata.org/pandas-docs/stable/user_guide/indexing.html#returning-a-view-versus-a-copy\n",
            "  \"\"\"Entry point for launching an IPython kernel.\n"
          ]
        },
        {
          "output_type": "execute_result",
          "data": {
            "text/html": [
              "<div>\n",
              "<style scoped>\n",
              "    .dataframe tbody tr th:only-of-type {\n",
              "        vertical-align: middle;\n",
              "    }\n",
              "\n",
              "    .dataframe tbody tr th {\n",
              "        vertical-align: top;\n",
              "    }\n",
              "\n",
              "    .dataframe thead th {\n",
              "        text-align: right;\n",
              "    }\n",
              "</style>\n",
              "<table border=\"1\" class=\"dataframe\">\n",
              "  <thead>\n",
              "    <tr style=\"text-align: right;\">\n",
              "      <th></th>\n",
              "      <th>index</th>\n",
              "      <th>nama</th>\n",
              "      <th>jenis_kelamin</th>\n",
              "    </tr>\n",
              "  </thead>\n",
              "  <tbody>\n",
              "    <tr>\n",
              "      <th>0</th>\n",
              "      <td>0</td>\n",
              "      <td>ERWIN TJAHJONO</td>\n",
              "      <td>1</td>\n",
              "    </tr>\n",
              "    <tr>\n",
              "      <th>1</th>\n",
              "      <td>1</td>\n",
              "      <td>DAVIANDRIE ANDIKA BAHROENY</td>\n",
              "      <td>1</td>\n",
              "    </tr>\n",
              "    <tr>\n",
              "      <th>2</th>\n",
              "      <td>2</td>\n",
              "      <td>ELAN KURNIAWAN</td>\n",
              "      <td>1</td>\n",
              "    </tr>\n",
              "    <tr>\n",
              "      <th>3</th>\n",
              "      <td>3</td>\n",
              "      <td>AYU DWI CAHYANING MUKTI</td>\n",
              "      <td>0</td>\n",
              "    </tr>\n",
              "    <tr>\n",
              "      <th>4</th>\n",
              "      <td>4</td>\n",
              "      <td>WAHYOEDIN</td>\n",
              "      <td>1</td>\n",
              "    </tr>\n",
              "    <tr>\n",
              "      <th>...</th>\n",
              "      <td>...</td>\n",
              "      <td>...</td>\n",
              "      <td>...</td>\n",
              "    </tr>\n",
              "    <tr>\n",
              "      <th>995</th>\n",
              "      <td>995</td>\n",
              "      <td>NENNI SABILLAH</td>\n",
              "      <td>0</td>\n",
              "    </tr>\n",
              "    <tr>\n",
              "      <th>996</th>\n",
              "      <td>996</td>\n",
              "      <td>GRACE LIE</td>\n",
              "      <td>0</td>\n",
              "    </tr>\n",
              "    <tr>\n",
              "      <th>997</th>\n",
              "      <td>997</td>\n",
              "      <td>HENNY H SAKKA</td>\n",
              "      <td>0</td>\n",
              "    </tr>\n",
              "    <tr>\n",
              "      <th>998</th>\n",
              "      <td>998</td>\n",
              "      <td>AJENG FARAH ARIBAH</td>\n",
              "      <td>0</td>\n",
              "    </tr>\n",
              "    <tr>\n",
              "      <th>999</th>\n",
              "      <td>999</td>\n",
              "      <td>P U R N I</td>\n",
              "      <td>0</td>\n",
              "    </tr>\n",
              "  </tbody>\n",
              "</table>\n",
              "<p>987 rows × 3 columns</p>\n",
              "</div>"
            ],
            "text/plain": [
              "     index                        nama  jenis_kelamin\n",
              "0        0              ERWIN TJAHJONO              1\n",
              "1        1  DAVIANDRIE ANDIKA BAHROENY              1\n",
              "2        2              ELAN KURNIAWAN              1\n",
              "3        3     AYU DWI CAHYANING MUKTI              0\n",
              "4        4                   WAHYOEDIN              1\n",
              "..     ...                         ...            ...\n",
              "995    995              NENNI SABILLAH              0\n",
              "996    996                   GRACE LIE              0\n",
              "997    997               HENNY H SAKKA              0\n",
              "998    998          AJENG FARAH ARIBAH              0\n",
              "999    999                   P U R N I              0\n",
              "\n",
              "[987 rows x 3 columns]"
            ]
          },
          "metadata": {},
          "execution_count": 31
        }
      ]
    },
    {
      "cell_type": "code",
      "metadata": {
        "colab": {
          "base_uri": "https://localhost:8080/"
        },
        "id": "wZRRk2s9_vYt",
        "outputId": "d3134fd7-c778-43cb-fabc-b01a14a7261b"
      },
      "source": [
        "#mengecek masing-masing label\n",
        "df['jenis_kelamin'].value_counts()"
      ],
      "execution_count": null,
      "outputs": [
        {
          "output_type": "execute_result",
          "data": {
            "text/plain": [
              "0    538\n",
              "1    449\n",
              "Name: jenis_kelamin, dtype: int64"
            ]
          },
          "metadata": {},
          "execution_count": 32
        }
      ]
    },
    {
      "cell_type": "markdown",
      "metadata": {
        "id": "6S1A9HYm__8A"
      },
      "source": [
        "## Modelling machine learning"
      ]
    },
    {
      "cell_type": "code",
      "metadata": {
        "id": "C_dPJn73ADeV"
      },
      "source": [
        "#split dataset\n",
        "\n",
        "from sklearn.model_selection import train_test_split\n",
        "\n",
        "X = df['nama']\n",
        "y = df['jenis_kelamin']\n",
        "\n",
        "text_train, text_test, y_train, y_test = train_test_split(X, y, test_size=0.20, random_state=42)"
      ],
      "execution_count": null,
      "outputs": []
    },
    {
      "cell_type": "code",
      "metadata": {
        "colab": {
          "base_uri": "https://localhost:8080/"
        },
        "id": "7xEhy4GvBCMU",
        "outputId": "5e1c5969-f13d-4f25-e9c9-b2fc8b26f40f"
      },
      "source": [
        "text_train.shape"
      ],
      "execution_count": null,
      "outputs": [
        {
          "output_type": "execute_result",
          "data": {
            "text/plain": [
              "(789,)"
            ]
          },
          "metadata": {},
          "execution_count": 34
        }
      ]
    },
    {
      "cell_type": "code",
      "metadata": {
        "colab": {
          "base_uri": "https://localhost:8080/"
        },
        "id": "DlO96aNXBGYO",
        "outputId": "2efb4c4f-8402-4923-80a8-8b66a7afa99e"
      },
      "source": [
        "text_test.shape"
      ],
      "execution_count": null,
      "outputs": [
        {
          "output_type": "execute_result",
          "data": {
            "text/plain": [
              "(198,)"
            ]
          },
          "metadata": {},
          "execution_count": 35
        }
      ]
    },
    {
      "cell_type": "code",
      "metadata": {
        "colab": {
          "base_uri": "https://localhost:8080/"
        },
        "id": "HeA849L2BJ4W",
        "outputId": "d1e5a71b-61b7-4f02-e451-3a66cc96fe62"
      },
      "source": [
        "y_train.shape"
      ],
      "execution_count": null,
      "outputs": [
        {
          "output_type": "execute_result",
          "data": {
            "text/plain": [
              "(789,)"
            ]
          },
          "metadata": {},
          "execution_count": 36
        }
      ]
    },
    {
      "cell_type": "code",
      "metadata": {
        "colab": {
          "base_uri": "https://localhost:8080/"
        },
        "id": "0b1ubjxqBOgZ",
        "outputId": "e0953a44-a805-4d96-cb41-f82db2fd524e"
      },
      "source": [
        "y_test.shape"
      ],
      "execution_count": null,
      "outputs": [
        {
          "output_type": "execute_result",
          "data": {
            "text/plain": [
              "(198,)"
            ]
          },
          "metadata": {},
          "execution_count": 37
        }
      ]
    },
    {
      "cell_type": "code",
      "metadata": {
        "id": "4lymv4jsBThT"
      },
      "source": [
        "from sklearn.feature_extraction.text import CountVectorizer\n",
        "\n",
        "vectorizer = CountVectorizer(analyzer = 'char_wb', ngram_range=(2,6))\n",
        "vectorizer.fit(text_train.ravel())\n",
        "\n",
        "X_train = vectorizer.transform(text_train.ravel())\n",
        "X_test = vectorizer.transform(text_test.ravel())"
      ],
      "execution_count": null,
      "outputs": []
    },
    {
      "cell_type": "code",
      "metadata": {
        "colab": {
          "base_uri": "https://localhost:8080/"
        },
        "id": "9et2yWRLCSZr",
        "outputId": "564a3b3d-d2d5-4fb9-a4a6-26831bcc85af"
      },
      "source": [
        "print(X_train)"
      ],
      "execution_count": null,
      "outputs": [
        {
          "output_type": "stream",
          "name": "stdout",
          "text": [
            "  (0, 5)\t1\n",
            "  (0, 204)\t1\n",
            "  (0, 211)\t1\n",
            "  (0, 217)\t1\n",
            "  (0, 218)\t1\n",
            "  (0, 4180)\t1\n",
            "  (0, 4210)\t1\n",
            "  (0, 4233)\t1\n",
            "  (0, 4234)\t1\n",
            "  (0, 4236)\t1\n",
            "  (0, 5764)\t1\n",
            "  (0, 5771)\t1\n",
            "  (0, 5773)\t1\n",
            "  (0, 5774)\t1\n",
            "  (0, 5775)\t1\n",
            "  (0, 7345)\t1\n",
            "  (0, 10096)\t1\n",
            "  (0, 10097)\t1\n",
            "  (0, 11409)\t1\n",
            "  (0, 11446)\t1\n",
            "  (0, 11447)\t1\n",
            "  (0, 11449)\t1\n",
            "  (0, 11450)\t1\n",
            "  (0, 12700)\t1\n",
            "  (0, 12714)\t1\n",
            "  :\t:\n",
            "  (788, 12912)\t1\n",
            "  (788, 12930)\t1\n",
            "  (788, 12931)\t1\n",
            "  (788, 13105)\t1\n",
            "  (788, 13106)\t1\n",
            "  (788, 13113)\t1\n",
            "  (788, 13114)\t1\n",
            "  (788, 13115)\t1\n",
            "  (788, 13772)\t1\n",
            "  (788, 13773)\t1\n",
            "  (788, 14248)\t1\n",
            "  (788, 14325)\t1\n",
            "  (788, 14327)\t1\n",
            "  (788, 14328)\t1\n",
            "  (788, 14511)\t1\n",
            "  (788, 14579)\t1\n",
            "  (788, 14581)\t1\n",
            "  (788, 14585)\t1\n",
            "  (788, 14586)\t1\n",
            "  (788, 14752)\t1\n",
            "  (788, 14999)\t1\n",
            "  (788, 15027)\t1\n",
            "  (788, 15039)\t1\n",
            "  (788, 15040)\t1\n",
            "  (788, 15041)\t1\n"
          ]
        }
      ]
    },
    {
      "cell_type": "code",
      "metadata": {
        "colab": {
          "base_uri": "https://localhost:8080/"
        },
        "id": "_1lQ7jfECWKB",
        "outputId": "fb7412bc-be93-42b8-84f6-6e03497c8179"
      },
      "source": [
        "print(X_test)"
      ],
      "execution_count": null,
      "outputs": [
        {
          "output_type": "stream",
          "name": "stdout",
          "text": [
            "  (0, 5)\t1\n",
            "  (0, 152)\t1\n",
            "  (0, 191)\t1\n",
            "  (0, 471)\t1\n",
            "  (0, 472)\t1\n",
            "  (0, 757)\t1\n",
            "  (0, 795)\t1\n",
            "  (0, 807)\t1\n",
            "  (0, 3895)\t2\n",
            "  (0, 3934)\t1\n",
            "  (0, 4078)\t1\n",
            "  (0, 4081)\t1\n",
            "  (0, 5273)\t1\n",
            "  (0, 5499)\t1\n",
            "  (0, 5568)\t1\n",
            "  (0, 5570)\t1\n",
            "  (0, 5764)\t1\n",
            "  (0, 5771)\t1\n",
            "  (0, 5772)\t1\n",
            "  (0, 6093)\t1\n",
            "  (0, 6106)\t1\n",
            "  (0, 6107)\t1\n",
            "  (0, 6444)\t1\n",
            "  (0, 6466)\t1\n",
            "  (0, 7232)\t1\n",
            "  :\t:\n",
            "  (197, 8260)\t1\n",
            "  (197, 8265)\t1\n",
            "  (197, 8266)\t1\n",
            "  (197, 8840)\t1\n",
            "  (197, 8904)\t1\n",
            "  (197, 8905)\t1\n",
            "  (197, 8906)\t1\n",
            "  (197, 8907)\t1\n",
            "  (197, 13365)\t1\n",
            "  (197, 13366)\t1\n",
            "  (197, 13617)\t1\n",
            "  (197, 13648)\t1\n",
            "  (197, 13649)\t1\n",
            "  (197, 13650)\t1\n",
            "  (197, 14334)\t1\n",
            "  (197, 14346)\t1\n",
            "  (197, 14347)\t1\n",
            "  (197, 14630)\t1\n",
            "  (197, 14711)\t1\n",
            "  (197, 14712)\t1\n",
            "  (197, 14713)\t1\n",
            "  (197, 14714)\t1\n",
            "  (197, 14784)\t1\n",
            "  (197, 14804)\t1\n",
            "  (197, 14805)\t1\n"
          ]
        }
      ]
    },
    {
      "cell_type": "code",
      "metadata": {
        "id": "CfyRJc5JCeU-"
      },
      "source": [
        "#proses training"
      ],
      "execution_count": null,
      "outputs": []
    },
    {
      "cell_type": "code",
      "metadata": {
        "colab": {
          "base_uri": "https://localhost:8080/"
        },
        "id": "1K4qpFccCgu6",
        "outputId": "67f23560-469a-45ce-ec14-cab1d8d744ac"
      },
      "source": [
        "from sklearn.naive_bayes import MultinomialNB\n",
        "\n",
        "model = MultinomialNB()\n",
        "model.fit(X_train, y_train.ravel())"
      ],
      "execution_count": null,
      "outputs": [
        {
          "output_type": "execute_result",
          "data": {
            "text/plain": [
              "MultinomialNB(alpha=1.0, class_prior=None, fit_prior=True)"
            ]
          },
          "metadata": {},
          "execution_count": 42
        }
      ]
    },
    {
      "cell_type": "code",
      "metadata": {
        "id": "EY_F1NfsC5mQ"
      },
      "source": [
        "model_predict = model.predict(X_test)"
      ],
      "execution_count": null,
      "outputs": []
    },
    {
      "cell_type": "code",
      "metadata": {
        "colab": {
          "base_uri": "https://localhost:8080/"
        },
        "id": "RiPqPtqYC_bq",
        "outputId": "000a1195-651b-4f82-83c6-d7bbc7cfc67e"
      },
      "source": [
        "model_predict"
      ],
      "execution_count": null,
      "outputs": [
        {
          "output_type": "execute_result",
          "data": {
            "text/plain": [
              "array([1, 1, 0, 1, 1, 1, 1, 0, 0, 0, 0, 1, 0, 1, 0, 0, 0, 1, 0, 0, 0, 0,\n",
              "       0, 1, 0, 1, 1, 0, 1, 1, 0, 0, 1, 1, 1, 0, 0, 1, 1, 0, 0, 0, 0, 0,\n",
              "       1, 0, 0, 0, 1, 1, 0, 0, 0, 0, 0, 0, 1, 0, 1, 1, 1, 0, 0, 0, 0, 0,\n",
              "       0, 0, 1, 1, 0, 1, 0, 0, 0, 0, 0, 0, 1, 0, 1, 1, 0, 0, 0, 1, 0, 0,\n",
              "       0, 1, 0, 0, 0, 1, 0, 1, 1, 1, 0, 0, 1, 0, 0, 1, 1, 0, 1, 1, 0, 0,\n",
              "       0, 0, 0, 1, 0, 0, 1, 0, 0, 1, 1, 0, 1, 0, 1, 1, 0, 1, 0, 0, 0, 1,\n",
              "       1, 0, 1, 1, 0, 1, 0, 0, 0, 0, 1, 1, 1, 1, 1, 0, 0, 0, 0, 0, 1, 1,\n",
              "       1, 1, 0, 0, 1, 1, 1, 0, 1, 1, 0, 0, 1, 1, 1, 0, 0, 1, 1, 1, 1, 1,\n",
              "       0, 0, 0, 1, 0, 0, 0, 1, 1, 1, 0, 1, 0, 1, 1, 0, 1, 0, 0, 1, 0, 0])"
            ]
          },
          "metadata": {},
          "execution_count": 44
        }
      ]
    },
    {
      "cell_type": "code",
      "metadata": {
        "colab": {
          "base_uri": "https://localhost:8080/"
        },
        "id": "tXA7_Sq4DCvH",
        "outputId": "90f40b30-9fa1-4f5d-b619-ed6c4fae10d7"
      },
      "source": [
        "#akurasi data train = 97%\n",
        "print(model.score(X_train, y_train))"
      ],
      "execution_count": null,
      "outputs": [
        {
          "output_type": "stream",
          "name": "stdout",
          "text": [
            "0.9898605830164765\n"
          ]
        }
      ]
    },
    {
      "cell_type": "code",
      "metadata": {
        "colab": {
          "base_uri": "https://localhost:8080/"
        },
        "id": "Ss1dHZwoDNmI",
        "outputId": "cbd6c2f3-190c-4f70-cc3a-b2d4c6f45711"
      },
      "source": [
        "#akurasi data test = 91%\n",
        "print(model.score(X_test, y_test))"
      ],
      "execution_count": null,
      "outputs": [
        {
          "output_type": "stream",
          "name": "stdout",
          "text": [
            "0.8686868686868687\n"
          ]
        }
      ]
    },
    {
      "cell_type": "code",
      "metadata": {
        "id": "kTfjyK97Dcni"
      },
      "source": [
        ""
      ],
      "execution_count": null,
      "outputs": []
    },
    {
      "cell_type": "markdown",
      "metadata": {
        "id": "KkpoWkCRDeUX"
      },
      "source": [
        "## evaluasi model"
      ]
    },
    {
      "cell_type": "code",
      "metadata": {
        "colab": {
          "base_uri": "https://localhost:8080/"
        },
        "id": "kExW9mHTDgTu",
        "outputId": "f1a64d2a-b036-4910-b459-fe42dc41b39e"
      },
      "source": [
        "#confusion matrix\n",
        "#classification report\n",
        "\n",
        "from sklearn import metrics\n",
        "\n",
        "model_predict = model.predict(X_test)\n",
        "\n",
        "print('Akurasi: {0:.4f}'.format(metrics.accuracy_score(y_test, model_predict)))\n",
        "print(metrics.confusion_matrix(y_test, model_predict, labels=[1,0]))\n",
        "\n",
        "print('Classification Report:')\n",
        "print(metrics.classification_report(y_test, model_predict, labels=[1,0]))"
      ],
      "execution_count": null,
      "outputs": [
        {
          "output_type": "stream",
          "name": "stdout",
          "text": [
            "Akurasi: 0.8687\n",
            "[[78 17]\n",
            " [ 9 94]]\n",
            "Classification Report:\n",
            "              precision    recall  f1-score   support\n",
            "\n",
            "           1       0.90      0.82      0.86        95\n",
            "           0       0.85      0.91      0.88       103\n",
            "\n",
            "    accuracy                           0.87       198\n",
            "   macro avg       0.87      0.87      0.87       198\n",
            "weighted avg       0.87      0.87      0.87       198\n",
            "\n"
          ]
        }
      ]
    },
    {
      "cell_type": "code",
      "metadata": {
        "id": "5j-OmB_fLOUz"
      },
      "source": [
        "import pickle\n",
        "with open ('my_model', 'wb') as m:\n",
        "  pickle.dump(model_predict,m)"
      ],
      "execution_count": null,
      "outputs": []
    },
    {
      "cell_type": "code",
      "metadata": {
        "id": "Gw2BMbXTEty-"
      },
      "source": [
        "with open ('my_model', 'rb') as m:\n",
        "  Pmy_model= pickle.load(m)"
      ],
      "execution_count": null,
      "outputs": []
    },
    {
      "cell_type": "code",
      "metadata": {
        "colab": {
          "base_uri": "https://localhost:8080/"
        },
        "id": "NPnbgSTRQ17L",
        "outputId": "ba514736-064a-4b68-8a13-19dd47f0dcef"
      },
      "source": [
        "print('Akurasi: {0:.4f}'.format(metrics.accuracy_score(y_test, model_predict)))\n"
      ],
      "execution_count": null,
      "outputs": [
        {
          "output_type": "stream",
          "name": "stdout",
          "text": [
            "Akurasi: 0.8687\n"
          ]
        }
      ]
    },
    {
      "cell_type": "markdown",
      "metadata": {
        "id": "txS7veWwEvF8"
      },
      "source": [
        "##prediksi data baru"
      ]
    },
    {
      "cell_type": "code",
      "metadata": {
        "colab": {
          "base_uri": "https://localhost:8080/"
        },
        "id": "JfTdk6zrExGs",
        "outputId": "fc559727-1218-4504-b443-21e63ad06bca"
      },
      "source": [
        "label = {1:'Laki-Laki', 0:'Perempuan'}\n",
        "\n",
        "nama_baru = vectorizer.transform([input('Masukkan Nama yang ingin diprediksi gendernya : ')])\n",
        "hasil_prediksi = model.predict(nama_baru)\n",
        "\n",
        "print(label[int(hasil_prediksi)])"
      ],
      "execution_count": null,
      "outputs": [
        {
          "output_type": "stream",
          "name": "stdout",
          "text": [
            "Masukkan Nama yang ingin diprediksi gendernya : Mimin\n",
            "Perempuan\n"
          ]
        }
      ]
    },
    {
      "cell_type": "markdown",
      "metadata": {
        "id": "8vEtL_hQGRes"
      },
      "source": [
        "#Prediksi dataset testing"
      ]
    },
    {
      "cell_type": "code",
      "metadata": {
        "id": "9q5rmYnPFhsc"
      },
      "source": [
        "\n",
        "df_testing = pd.read_csv('/content/drive/MyDrive/Intelligo.id/Data/data_test.csv')"
      ],
      "execution_count": null,
      "outputs": []
    },
    {
      "cell_type": "code",
      "metadata": {
        "colab": {
          "base_uri": "https://localhost:8080/",
          "height": 419
        },
        "id": "UEEakbRqFv8N",
        "outputId": "69a6f656-32f0-432f-a44d-7b08b237535d"
      },
      "source": [
        "df_testing"
      ],
      "execution_count": null,
      "outputs": [
        {
          "output_type": "execute_result",
          "data": {
            "text/html": [
              "<div>\n",
              "<style scoped>\n",
              "    .dataframe tbody tr th:only-of-type {\n",
              "        vertical-align: middle;\n",
              "    }\n",
              "\n",
              "    .dataframe tbody tr th {\n",
              "        vertical-align: top;\n",
              "    }\n",
              "\n",
              "    .dataframe thead th {\n",
              "        text-align: right;\n",
              "    }\n",
              "</style>\n",
              "<table border=\"1\" class=\"dataframe\">\n",
              "  <thead>\n",
              "    <tr style=\"text-align: right;\">\n",
              "      <th></th>\n",
              "      <th>index</th>\n",
              "      <th>nama</th>\n",
              "      <th>jenis_kelamin</th>\n",
              "    </tr>\n",
              "  </thead>\n",
              "  <tbody>\n",
              "    <tr>\n",
              "      <th>0</th>\n",
              "      <td>1001</td>\n",
              "      <td>MURFA DEVI</td>\n",
              "      <td>Perempuan</td>\n",
              "    </tr>\n",
              "    <tr>\n",
              "      <th>1</th>\n",
              "      <td>1002</td>\n",
              "      <td>BARITO RIVERA S</td>\n",
              "      <td>Laki-Laki</td>\n",
              "    </tr>\n",
              "    <tr>\n",
              "      <th>2</th>\n",
              "      <td>1003</td>\n",
              "      <td>DESNA ELIZA</td>\n",
              "      <td>Perempuan</td>\n",
              "    </tr>\n",
              "    <tr>\n",
              "      <th>3</th>\n",
              "      <td>1004</td>\n",
              "      <td>DIAN AYU PERMATASARI</td>\n",
              "      <td>Perempuan</td>\n",
              "    </tr>\n",
              "    <tr>\n",
              "      <th>4</th>\n",
              "      <td>1005</td>\n",
              "      <td>SHUFY GULAM</td>\n",
              "      <td>Laki-Laki</td>\n",
              "    </tr>\n",
              "    <tr>\n",
              "      <th>...</th>\n",
              "      <td>...</td>\n",
              "      <td>...</td>\n",
              "      <td>...</td>\n",
              "    </tr>\n",
              "    <tr>\n",
              "      <th>3995</th>\n",
              "      <td>4996</td>\n",
              "      <td>RISA NURUL FITRA</td>\n",
              "      <td>Perempuan</td>\n",
              "    </tr>\n",
              "    <tr>\n",
              "      <th>3996</th>\n",
              "      <td>4997</td>\n",
              "      <td>FADEL MUHAMMAD RAHMAN</td>\n",
              "      <td>Laki-Laki</td>\n",
              "    </tr>\n",
              "    <tr>\n",
              "      <th>3997</th>\n",
              "      <td>4998</td>\n",
              "      <td>HELEN SITORUS</td>\n",
              "      <td>Perempuan</td>\n",
              "    </tr>\n",
              "    <tr>\n",
              "      <th>3998</th>\n",
              "      <td>4999</td>\n",
              "      <td>AHMAD BAIJURI</td>\n",
              "      <td>Laki-Laki</td>\n",
              "    </tr>\n",
              "    <tr>\n",
              "      <th>3999</th>\n",
              "      <td>5000</td>\n",
              "      <td>NaN</td>\n",
              "      <td>NaN</td>\n",
              "    </tr>\n",
              "  </tbody>\n",
              "</table>\n",
              "<p>4000 rows × 3 columns</p>\n",
              "</div>"
            ],
            "text/plain": [
              "      index                   nama jenis_kelamin\n",
              "0      1001             MURFA DEVI     Perempuan\n",
              "1      1002        BARITO RIVERA S     Laki-Laki\n",
              "2      1003            DESNA ELIZA     Perempuan\n",
              "3      1004   DIAN AYU PERMATASARI     Perempuan\n",
              "4      1005            SHUFY GULAM     Laki-Laki\n",
              "...     ...                    ...           ...\n",
              "3995   4996       RISA NURUL FITRA     Perempuan\n",
              "3996   4997  FADEL MUHAMMAD RAHMAN     Laki-Laki\n",
              "3997   4998          HELEN SITORUS     Perempuan\n",
              "3998   4999          AHMAD BAIJURI     Laki-Laki\n",
              "3999   5000                    NaN           NaN\n",
              "\n",
              "[4000 rows x 3 columns]"
            ]
          },
          "metadata": {},
          "execution_count": 71
        }
      ]
    },
    {
      "cell_type": "code",
      "metadata": {
        "id": "Xobd9fbkFzKE"
      },
      "source": [
        "df_testing = df_testing.dropna()"
      ],
      "execution_count": null,
      "outputs": []
    },
    {
      "cell_type": "code",
      "metadata": {
        "colab": {
          "base_uri": "https://localhost:8080/",
          "height": 419
        },
        "id": "PTslsRF1F2qS",
        "outputId": "c662a122-2011-4b67-ff87-e756135f13b8"
      },
      "source": [
        "df_testing"
      ],
      "execution_count": null,
      "outputs": [
        {
          "output_type": "execute_result",
          "data": {
            "text/html": [
              "<div>\n",
              "<style scoped>\n",
              "    .dataframe tbody tr th:only-of-type {\n",
              "        vertical-align: middle;\n",
              "    }\n",
              "\n",
              "    .dataframe tbody tr th {\n",
              "        vertical-align: top;\n",
              "    }\n",
              "\n",
              "    .dataframe thead th {\n",
              "        text-align: right;\n",
              "    }\n",
              "</style>\n",
              "<table border=\"1\" class=\"dataframe\">\n",
              "  <thead>\n",
              "    <tr style=\"text-align: right;\">\n",
              "      <th></th>\n",
              "      <th>index</th>\n",
              "      <th>nama</th>\n",
              "      <th>jenis_kelamin</th>\n",
              "    </tr>\n",
              "  </thead>\n",
              "  <tbody>\n",
              "    <tr>\n",
              "      <th>0</th>\n",
              "      <td>1001</td>\n",
              "      <td>MURFA DEVI</td>\n",
              "      <td>Perempuan</td>\n",
              "    </tr>\n",
              "    <tr>\n",
              "      <th>1</th>\n",
              "      <td>1002</td>\n",
              "      <td>BARITO RIVERA S</td>\n",
              "      <td>Laki-Laki</td>\n",
              "    </tr>\n",
              "    <tr>\n",
              "      <th>2</th>\n",
              "      <td>1003</td>\n",
              "      <td>DESNA ELIZA</td>\n",
              "      <td>Perempuan</td>\n",
              "    </tr>\n",
              "    <tr>\n",
              "      <th>3</th>\n",
              "      <td>1004</td>\n",
              "      <td>DIAN AYU PERMATASARI</td>\n",
              "      <td>Perempuan</td>\n",
              "    </tr>\n",
              "    <tr>\n",
              "      <th>4</th>\n",
              "      <td>1005</td>\n",
              "      <td>SHUFY GULAM</td>\n",
              "      <td>Laki-Laki</td>\n",
              "    </tr>\n",
              "    <tr>\n",
              "      <th>...</th>\n",
              "      <td>...</td>\n",
              "      <td>...</td>\n",
              "      <td>...</td>\n",
              "    </tr>\n",
              "    <tr>\n",
              "      <th>3994</th>\n",
              "      <td>4995</td>\n",
              "      <td>YUNIZAL</td>\n",
              "      <td>Laki-Laki</td>\n",
              "    </tr>\n",
              "    <tr>\n",
              "      <th>3995</th>\n",
              "      <td>4996</td>\n",
              "      <td>RISA NURUL FITRA</td>\n",
              "      <td>Perempuan</td>\n",
              "    </tr>\n",
              "    <tr>\n",
              "      <th>3996</th>\n",
              "      <td>4997</td>\n",
              "      <td>FADEL MUHAMMAD RAHMAN</td>\n",
              "      <td>Laki-Laki</td>\n",
              "    </tr>\n",
              "    <tr>\n",
              "      <th>3997</th>\n",
              "      <td>4998</td>\n",
              "      <td>HELEN SITORUS</td>\n",
              "      <td>Perempuan</td>\n",
              "    </tr>\n",
              "    <tr>\n",
              "      <th>3998</th>\n",
              "      <td>4999</td>\n",
              "      <td>AHMAD BAIJURI</td>\n",
              "      <td>Laki-Laki</td>\n",
              "    </tr>\n",
              "  </tbody>\n",
              "</table>\n",
              "<p>3954 rows × 3 columns</p>\n",
              "</div>"
            ],
            "text/plain": [
              "      index                   nama jenis_kelamin\n",
              "0      1001             MURFA DEVI     Perempuan\n",
              "1      1002        BARITO RIVERA S     Laki-Laki\n",
              "2      1003            DESNA ELIZA     Perempuan\n",
              "3      1004   DIAN AYU PERMATASARI     Perempuan\n",
              "4      1005            SHUFY GULAM     Laki-Laki\n",
              "...     ...                    ...           ...\n",
              "3994   4995                YUNIZAL     Laki-Laki\n",
              "3995   4996       RISA NURUL FITRA     Perempuan\n",
              "3996   4997  FADEL MUHAMMAD RAHMAN     Laki-Laki\n",
              "3997   4998          HELEN SITORUS     Perempuan\n",
              "3998   4999          AHMAD BAIJURI     Laki-Laki\n",
              "\n",
              "[3954 rows x 3 columns]"
            ]
          },
          "metadata": {},
          "execution_count": 73
        }
      ]
    },
    {
      "cell_type": "code",
      "metadata": {
        "id": "gI6YsvGyF5jh"
      },
      "source": [
        "new_predict = df_testing['nama'].values"
      ],
      "execution_count": null,
      "outputs": []
    },
    {
      "cell_type": "code",
      "metadata": {
        "colab": {
          "base_uri": "https://localhost:8080/"
        },
        "id": "mQeteLI5F_9k",
        "outputId": "70b3c225-af50-4b0f-e1af-689f3227355a"
      },
      "source": [
        "new_predict"
      ],
      "execution_count": null,
      "outputs": [
        {
          "output_type": "execute_result",
          "data": {
            "text/plain": [
              "array(['MURFA DEVI', 'BARITO RIVERA S', 'DESNA ELIZA', ...,\n",
              "       'FADEL MUHAMMAD RAHMAN', 'HELEN SITORUS', 'AHMAD BAIJURI'],\n",
              "      dtype=object)"
            ]
          },
          "metadata": {},
          "execution_count": 75
        }
      ]
    },
    {
      "cell_type": "code",
      "metadata": {
        "id": "vH_BvLB3GD7T"
      },
      "source": [
        "new_predict = vectorizer.transform(new_predict.ravel())"
      ],
      "execution_count": null,
      "outputs": []
    },
    {
      "cell_type": "code",
      "metadata": {
        "colab": {
          "base_uri": "https://localhost:8080/"
        },
        "id": "cVL_ZhDFGKVQ",
        "outputId": "d6db3522-2b29-49ca-8906-03b5093518dd"
      },
      "source": [
        "print(new_predict)"
      ],
      "execution_count": null,
      "outputs": [
        {
          "output_type": "stream",
          "name": "stdout",
          "text": [
            "  (0, 471)\t1\n",
            "  (0, 516)\t1\n",
            "  (0, 1491)\t1\n",
            "  (0, 1651)\t1\n",
            "  (0, 1685)\t1\n",
            "  (0, 3163)\t1\n",
            "  (0, 5403)\t1\n",
            "  (0, 6322)\t1\n",
            "  (0, 6330)\t1\n",
            "  (0, 6370)\t1\n",
            "  (0, 6371)\t1\n",
            "  (0, 7345)\t1\n",
            "  (0, 9672)\t1\n",
            "  (0, 9726)\t1\n",
            "  (0, 11505)\t1\n",
            "  (0, 11506)\t1\n",
            "  (0, 14119)\t1\n",
            "  (0, 14153)\t1\n",
            "  (0, 14463)\t1\n",
            "  (1, 312)\t1\n",
            "  (1, 322)\t1\n",
            "  (1, 1972)\t1\n",
            "  (1, 2060)\t1\n",
            "  (1, 2201)\t1\n",
            "  (1, 2202)\t1\n",
            "  :\t:\n",
            "  (3953, 3480)\t1\n",
            "  (3953, 3481)\t1\n",
            "  (3953, 3483)\t1\n",
            "  (3953, 3484)\t1\n",
            "  (3953, 3537)\t1\n",
            "  (3953, 4891)\t1\n",
            "  (3953, 4907)\t1\n",
            "  (3953, 5273)\t1\n",
            "  (3953, 7202)\t1\n",
            "  (3953, 7203)\t1\n",
            "  (3953, 7205)\t1\n",
            "  (3953, 7206)\t1\n",
            "  (3953, 7345)\t1\n",
            "  (3953, 7678)\t1\n",
            "  (3953, 8492)\t1\n",
            "  (3953, 8530)\t1\n",
            "  (3953, 8531)\t1\n",
            "  (3953, 9255)\t1\n",
            "  (3953, 9257)\t1\n",
            "  (3953, 9258)\t1\n",
            "  (3953, 11558)\t1\n",
            "  (3953, 11559)\t1\n",
            "  (3953, 14119)\t1\n",
            "  (3953, 14174)\t1\n",
            "  (3953, 14175)\t1\n"
          ]
        }
      ]
    },
    {
      "cell_type": "code",
      "metadata": {
        "id": "SB70Q0NtGO0L"
      },
      "source": [
        "output = model.predict(new_predict)"
      ],
      "execution_count": null,
      "outputs": []
    },
    {
      "cell_type": "code",
      "metadata": {
        "colab": {
          "base_uri": "https://localhost:8080/"
        },
        "id": "Q6EQLq4SGZbE",
        "outputId": "e4c74bb1-93be-44fc-dad3-0f57b94a71a2"
      },
      "source": [
        "output"
      ],
      "execution_count": null,
      "outputs": [
        {
          "output_type": "execute_result",
          "data": {
            "text/plain": [
              "array([0, 1, 0, ..., 1, 0, 1])"
            ]
          },
          "metadata": {},
          "execution_count": 79
        }
      ]
    },
    {
      "cell_type": "code",
      "metadata": {
        "colab": {
          "base_uri": "https://localhost:8080/"
        },
        "id": "NPb-PC-nGfqr",
        "outputId": "612264e5-9c46-493b-9324-60ced101df0b"
      },
      "source": [
        "df_testing['new_predict'] = output.tolist()"
      ],
      "execution_count": null,
      "outputs": [
        {
          "output_type": "stream",
          "name": "stderr",
          "text": [
            "/usr/local/lib/python3.7/dist-packages/ipykernel_launcher.py:1: SettingWithCopyWarning: \n",
            "A value is trying to be set on a copy of a slice from a DataFrame.\n",
            "Try using .loc[row_indexer,col_indexer] = value instead\n",
            "\n",
            "See the caveats in the documentation: https://pandas.pydata.org/pandas-docs/stable/user_guide/indexing.html#returning-a-view-versus-a-copy\n",
            "  \"\"\"Entry point for launching an IPython kernel.\n"
          ]
        }
      ]
    },
    {
      "cell_type": "code",
      "metadata": {
        "colab": {
          "base_uri": "https://localhost:8080/",
          "height": 419
        },
        "id": "eP_2arlgGoj3",
        "outputId": "ace043fb-72b7-42ad-e0f9-98f19fed936d"
      },
      "source": [
        "df_testing"
      ],
      "execution_count": null,
      "outputs": [
        {
          "output_type": "execute_result",
          "data": {
            "text/html": [
              "<div>\n",
              "<style scoped>\n",
              "    .dataframe tbody tr th:only-of-type {\n",
              "        vertical-align: middle;\n",
              "    }\n",
              "\n",
              "    .dataframe tbody tr th {\n",
              "        vertical-align: top;\n",
              "    }\n",
              "\n",
              "    .dataframe thead th {\n",
              "        text-align: right;\n",
              "    }\n",
              "</style>\n",
              "<table border=\"1\" class=\"dataframe\">\n",
              "  <thead>\n",
              "    <tr style=\"text-align: right;\">\n",
              "      <th></th>\n",
              "      <th>index</th>\n",
              "      <th>nama</th>\n",
              "      <th>jenis_kelamin</th>\n",
              "      <th>new_predict</th>\n",
              "    </tr>\n",
              "  </thead>\n",
              "  <tbody>\n",
              "    <tr>\n",
              "      <th>0</th>\n",
              "      <td>1001</td>\n",
              "      <td>MURFA DEVI</td>\n",
              "      <td>Perempuan</td>\n",
              "      <td>0</td>\n",
              "    </tr>\n",
              "    <tr>\n",
              "      <th>1</th>\n",
              "      <td>1002</td>\n",
              "      <td>BARITO RIVERA S</td>\n",
              "      <td>Laki-Laki</td>\n",
              "      <td>1</td>\n",
              "    </tr>\n",
              "    <tr>\n",
              "      <th>2</th>\n",
              "      <td>1003</td>\n",
              "      <td>DESNA ELIZA</td>\n",
              "      <td>Perempuan</td>\n",
              "      <td>0</td>\n",
              "    </tr>\n",
              "    <tr>\n",
              "      <th>3</th>\n",
              "      <td>1004</td>\n",
              "      <td>DIAN AYU PERMATASARI</td>\n",
              "      <td>Perempuan</td>\n",
              "      <td>0</td>\n",
              "    </tr>\n",
              "    <tr>\n",
              "      <th>4</th>\n",
              "      <td>1005</td>\n",
              "      <td>SHUFY GULAM</td>\n",
              "      <td>Laki-Laki</td>\n",
              "      <td>1</td>\n",
              "    </tr>\n",
              "    <tr>\n",
              "      <th>...</th>\n",
              "      <td>...</td>\n",
              "      <td>...</td>\n",
              "      <td>...</td>\n",
              "      <td>...</td>\n",
              "    </tr>\n",
              "    <tr>\n",
              "      <th>3994</th>\n",
              "      <td>4995</td>\n",
              "      <td>YUNIZAL</td>\n",
              "      <td>Laki-Laki</td>\n",
              "      <td>1</td>\n",
              "    </tr>\n",
              "    <tr>\n",
              "      <th>3995</th>\n",
              "      <td>4996</td>\n",
              "      <td>RISA NURUL FITRA</td>\n",
              "      <td>Perempuan</td>\n",
              "      <td>0</td>\n",
              "    </tr>\n",
              "    <tr>\n",
              "      <th>3996</th>\n",
              "      <td>4997</td>\n",
              "      <td>FADEL MUHAMMAD RAHMAN</td>\n",
              "      <td>Laki-Laki</td>\n",
              "      <td>1</td>\n",
              "    </tr>\n",
              "    <tr>\n",
              "      <th>3997</th>\n",
              "      <td>4998</td>\n",
              "      <td>HELEN SITORUS</td>\n",
              "      <td>Perempuan</td>\n",
              "      <td>0</td>\n",
              "    </tr>\n",
              "    <tr>\n",
              "      <th>3998</th>\n",
              "      <td>4999</td>\n",
              "      <td>AHMAD BAIJURI</td>\n",
              "      <td>Laki-Laki</td>\n",
              "      <td>1</td>\n",
              "    </tr>\n",
              "  </tbody>\n",
              "</table>\n",
              "<p>3954 rows × 4 columns</p>\n",
              "</div>"
            ],
            "text/plain": [
              "      index                   nama jenis_kelamin  new_predict\n",
              "0      1001             MURFA DEVI     Perempuan            0\n",
              "1      1002        BARITO RIVERA S     Laki-Laki            1\n",
              "2      1003            DESNA ELIZA     Perempuan            0\n",
              "3      1004   DIAN AYU PERMATASARI     Perempuan            0\n",
              "4      1005            SHUFY GULAM     Laki-Laki            1\n",
              "...     ...                    ...           ...          ...\n",
              "3994   4995                YUNIZAL     Laki-Laki            1\n",
              "3995   4996       RISA NURUL FITRA     Perempuan            0\n",
              "3996   4997  FADEL MUHAMMAD RAHMAN     Laki-Laki            1\n",
              "3997   4998          HELEN SITORUS     Perempuan            0\n",
              "3998   4999          AHMAD BAIJURI     Laki-Laki            1\n",
              "\n",
              "[3954 rows x 4 columns]"
            ]
          },
          "metadata": {},
          "execution_count": 81
        }
      ]
    },
    {
      "cell_type": "code",
      "metadata": {
        "colab": {
          "base_uri": "https://localhost:8080/"
        },
        "id": "WNyDslBKGwCB",
        "outputId": "5b5fdcd6-120a-491e-9f40-161bda4bda67"
      },
      "source": [
        "df_testing['jenis_kelamin'] = df_testing['jenis_kelamin'].apply(lambda score: 1 if score=='Laki-Laki' else 0)"
      ],
      "execution_count": null,
      "outputs": [
        {
          "output_type": "stream",
          "name": "stderr",
          "text": [
            "/usr/local/lib/python3.7/dist-packages/ipykernel_launcher.py:1: SettingWithCopyWarning: \n",
            "A value is trying to be set on a copy of a slice from a DataFrame.\n",
            "Try using .loc[row_indexer,col_indexer] = value instead\n",
            "\n",
            "See the caveats in the documentation: https://pandas.pydata.org/pandas-docs/stable/user_guide/indexing.html#returning-a-view-versus-a-copy\n",
            "  \"\"\"Entry point for launching an IPython kernel.\n"
          ]
        }
      ]
    },
    {
      "cell_type": "code",
      "metadata": {
        "colab": {
          "base_uri": "https://localhost:8080/",
          "height": 419
        },
        "id": "rpDin9CUHBkr",
        "outputId": "6a756963-a411-4c11-8bff-ecd87025ef2d"
      },
      "source": [
        "df_testing"
      ],
      "execution_count": null,
      "outputs": [
        {
          "output_type": "execute_result",
          "data": {
            "text/html": [
              "<div>\n",
              "<style scoped>\n",
              "    .dataframe tbody tr th:only-of-type {\n",
              "        vertical-align: middle;\n",
              "    }\n",
              "\n",
              "    .dataframe tbody tr th {\n",
              "        vertical-align: top;\n",
              "    }\n",
              "\n",
              "    .dataframe thead th {\n",
              "        text-align: right;\n",
              "    }\n",
              "</style>\n",
              "<table border=\"1\" class=\"dataframe\">\n",
              "  <thead>\n",
              "    <tr style=\"text-align: right;\">\n",
              "      <th></th>\n",
              "      <th>index</th>\n",
              "      <th>nama</th>\n",
              "      <th>jenis_kelamin</th>\n",
              "      <th>new_predict</th>\n",
              "    </tr>\n",
              "  </thead>\n",
              "  <tbody>\n",
              "    <tr>\n",
              "      <th>0</th>\n",
              "      <td>1001</td>\n",
              "      <td>MURFA DEVI</td>\n",
              "      <td>0</td>\n",
              "      <td>0</td>\n",
              "    </tr>\n",
              "    <tr>\n",
              "      <th>1</th>\n",
              "      <td>1002</td>\n",
              "      <td>BARITO RIVERA S</td>\n",
              "      <td>1</td>\n",
              "      <td>1</td>\n",
              "    </tr>\n",
              "    <tr>\n",
              "      <th>2</th>\n",
              "      <td>1003</td>\n",
              "      <td>DESNA ELIZA</td>\n",
              "      <td>0</td>\n",
              "      <td>0</td>\n",
              "    </tr>\n",
              "    <tr>\n",
              "      <th>3</th>\n",
              "      <td>1004</td>\n",
              "      <td>DIAN AYU PERMATASARI</td>\n",
              "      <td>0</td>\n",
              "      <td>0</td>\n",
              "    </tr>\n",
              "    <tr>\n",
              "      <th>4</th>\n",
              "      <td>1005</td>\n",
              "      <td>SHUFY GULAM</td>\n",
              "      <td>1</td>\n",
              "      <td>1</td>\n",
              "    </tr>\n",
              "    <tr>\n",
              "      <th>...</th>\n",
              "      <td>...</td>\n",
              "      <td>...</td>\n",
              "      <td>...</td>\n",
              "      <td>...</td>\n",
              "    </tr>\n",
              "    <tr>\n",
              "      <th>3994</th>\n",
              "      <td>4995</td>\n",
              "      <td>YUNIZAL</td>\n",
              "      <td>1</td>\n",
              "      <td>1</td>\n",
              "    </tr>\n",
              "    <tr>\n",
              "      <th>3995</th>\n",
              "      <td>4996</td>\n",
              "      <td>RISA NURUL FITRA</td>\n",
              "      <td>0</td>\n",
              "      <td>0</td>\n",
              "    </tr>\n",
              "    <tr>\n",
              "      <th>3996</th>\n",
              "      <td>4997</td>\n",
              "      <td>FADEL MUHAMMAD RAHMAN</td>\n",
              "      <td>1</td>\n",
              "      <td>1</td>\n",
              "    </tr>\n",
              "    <tr>\n",
              "      <th>3997</th>\n",
              "      <td>4998</td>\n",
              "      <td>HELEN SITORUS</td>\n",
              "      <td>0</td>\n",
              "      <td>0</td>\n",
              "    </tr>\n",
              "    <tr>\n",
              "      <th>3998</th>\n",
              "      <td>4999</td>\n",
              "      <td>AHMAD BAIJURI</td>\n",
              "      <td>1</td>\n",
              "      <td>1</td>\n",
              "    </tr>\n",
              "  </tbody>\n",
              "</table>\n",
              "<p>3954 rows × 4 columns</p>\n",
              "</div>"
            ],
            "text/plain": [
              "      index                   nama  jenis_kelamin  new_predict\n",
              "0      1001             MURFA DEVI              0            0\n",
              "1      1002        BARITO RIVERA S              1            1\n",
              "2      1003            DESNA ELIZA              0            0\n",
              "3      1004   DIAN AYU PERMATASARI              0            0\n",
              "4      1005            SHUFY GULAM              1            1\n",
              "...     ...                    ...            ...          ...\n",
              "3994   4995                YUNIZAL              1            1\n",
              "3995   4996       RISA NURUL FITRA              0            0\n",
              "3996   4997  FADEL MUHAMMAD RAHMAN              1            1\n",
              "3997   4998          HELEN SITORUS              0            0\n",
              "3998   4999          AHMAD BAIJURI              1            1\n",
              "\n",
              "[3954 rows x 4 columns]"
            ]
          },
          "metadata": {},
          "execution_count": 83
        }
      ]
    },
    {
      "cell_type": "markdown",
      "metadata": {
        "id": "CZGHPTeWIRvW"
      },
      "source": [
        "# Akurasi = 93%"
      ]
    },
    {
      "cell_type": "code",
      "metadata": {
        "colab": {
          "base_uri": "https://localhost:8080/"
        },
        "id": "rnRkK_atG4d9",
        "outputId": "0e6b5356-e540-452a-ca1a-bcad21d004c7"
      },
      "source": [
        "from sklearn.metrics import accuracy_score\n",
        "\n",
        "print(accuracy_score(df_testing['jenis_kelamin'], df_testing['new_predict']))"
      ],
      "execution_count": null,
      "outputs": [
        {
          "output_type": "stream",
          "name": "stdout",
          "text": [
            "0.8717754172989378\n"
          ]
        }
      ]
    },
    {
      "cell_type": "code",
      "metadata": {
        "colab": {
          "base_uri": "https://localhost:8080/"
        },
        "id": "62rvm1KalOV4",
        "outputId": "fec4f540-da13-4440-fd52-1a5b05850e23"
      },
      "source": [
        "label = {1:'Laki-Laki', 0:'Perempuan'}\n",
        "\n",
        "nama_baru = vectorizer.transform([input('Masukkan Nama yang ingin diprediksi gendernya : ')])\n",
        "hasil_prediksi = model.predict(nama_baru)\n",
        "\n",
        "print(label[int(hasil_prediksi)])"
      ],
      "execution_count": null,
      "outputs": [
        {
          "output_type": "stream",
          "name": "stdout",
          "text": [
            "Masukkan Nama yang ingin diprediksi gendernya : marona\n",
            "Perempuan\n"
          ]
        }
      ]
    }
  ]
}